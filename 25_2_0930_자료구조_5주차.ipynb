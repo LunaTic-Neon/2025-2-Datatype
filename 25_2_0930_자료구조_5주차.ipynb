{
  "nbformat": 4,
  "nbformat_minor": 0,
  "metadata": {
    "colab": {
      "provenance": [],
      "collapsed_sections": [
        "I0uRNtO0Xv_G",
        "nUX-KHcpXz10",
        "5bRvSg21bNIF"
      ],
      "authorship_tag": "ABX9TyNjFLFxWYoVKpDSvbMYGOPq",
      "include_colab_link": true
    },
    "kernelspec": {
      "name": "python3",
      "display_name": "Python 3"
    },
    "language_info": {
      "name": "python"
    }
  },
  "cells": [
    {
      "cell_type": "markdown",
      "metadata": {
        "id": "view-in-github",
        "colab_type": "text"
      },
      "source": [
        "<a href=\"https://colab.research.google.com/github/LunaTic-Neon/2025-2-Datatype/blob/main/25_2_0930_%EC%9E%90%EB%A3%8C%EA%B5%AC%EC%A1%B0_5%EC%A3%BC%EC%B0%A8.ipynb\" target=\"_parent\"><img src=\"https://colab.research.google.com/assets/colab-badge.svg\" alt=\"Open In Colab\"/></a>"
      ]
    },
    {
      "cell_type": "markdown",
      "source": [
        "## 자료구조_5주차_리스트"
      ],
      "metadata": {
        "id": "I0uRNtO0Xv_G"
      }
    },
    {
      "cell_type": "code",
      "execution_count": null,
      "metadata": {
        "id": "UchHsWByLnXf"
      },
      "outputs": [],
      "source": [
        "class ArrayList:\n",
        "\n",
        "  # 리스트의 데이터 : 생성자에서 정의 및 초기화\n",
        "  def __init__(self, capacity=100):\n",
        "    self.capacity = capacity\n",
        "    self.array = [None] * capacity\n",
        "    self.size = 0\n",
        "\n",
        "  # 리스트의 연산 : 클래스의 메소드\n",
        "\n",
        "  # 비어있는 지\n",
        "  def isEmpty(self):\n",
        "    return self.size == 0\n",
        "\n",
        "  # 차있는 지\n",
        "  def isFull(self):\n",
        "    return self.size == self.capacity\n",
        "\n",
        "  # 특정 위치에 값 추출\n",
        "  def getEntry(self, pos):\n",
        "    if 0 <= pos < self.size:\n",
        "      return self.array[pos]\n",
        "    else:\n",
        "      return None\n",
        "\n",
        "  # 특정 위치에 삽입\n",
        "  def insert(self, pos, e):\n",
        "    if not self.isFull() and 0 <= pos <= self.size:\n",
        "      for i in range(self.size, pos, -1):\n",
        "        self.array[i] = self.array[i-1]\n",
        "      self.array[pos] = e\n",
        "      self.size += 1\n",
        "    else:\n",
        "      pass\n",
        "\n",
        "  # 특정 위치 값 삭제\n",
        "  def delete(self, pos):\n",
        "    if not self.isEmpty() and 0 <= pos < self.size:\n",
        "      e = self.array[pos]\n",
        "      for i in range(pos, self.size-1):\n",
        "        self.array[i] = self.array[i+1]\n",
        "      self.size -= 1\n",
        "      return e\n",
        "    else:\n",
        "      pass\n",
        "\n",
        "  # 보기 편한 형태로 출력\n",
        "  def __str__(self):\n",
        "    return str(self.array[:self.size])"
      ]
    },
    {
      "cell_type": "code",
      "source": [
        "my_list = ArrayList() # 객체 생성\n",
        "my_list.isEmpty()"
      ],
      "metadata": {
        "colab": {
          "base_uri": "https://localhost:8080/"
        },
        "id": "5jo-K3JDM66f",
        "outputId": "44e739c9-0a78-43d0-f62a-8f65696969e3"
      },
      "execution_count": null,
      "outputs": [
        {
          "output_type": "execute_result",
          "data": {
            "text/plain": [
              "True"
            ]
          },
          "metadata": {},
          "execution_count": 21
        }
      ]
    },
    {
      "cell_type": "code",
      "source": [
        "my_list.insert(0, 5)\n",
        "my_list.insert(1, 10)\n",
        "my_list.insert(2, 15)\n",
        "my_list.insert(3, 20)\n",
        "print(my_list)"
      ],
      "metadata": {
        "colab": {
          "base_uri": "https://localhost:8080/"
        },
        "id": "ny7GDE5uOq9d",
        "outputId": "b803ae8a-c7b4-414a-d0bc-3ef0c8f76ffb"
      },
      "execution_count": null,
      "outputs": [
        {
          "output_type": "stream",
          "name": "stdout",
          "text": [
            "[5, 10, 15, 20]\n"
          ]
        }
      ]
    },
    {
      "cell_type": "code",
      "source": [
        "my_list.isFull()"
      ],
      "metadata": {
        "colab": {
          "base_uri": "https://localhost:8080/"
        },
        "id": "MawbTBxOO2Tl",
        "outputId": "8509f794-b206-4873-e11d-7606bd708d26"
      },
      "execution_count": null,
      "outputs": [
        {
          "output_type": "execute_result",
          "data": {
            "text/plain": [
              "False"
            ]
          },
          "metadata": {},
          "execution_count": 23
        }
      ]
    },
    {
      "cell_type": "code",
      "source": [
        "print(f\"인덱스 1의 항목 : {my_list.getEntry(1)}\")"
      ],
      "metadata": {
        "colab": {
          "base_uri": "https://localhost:8080/"
        },
        "id": "JKOQqUNuQqQd",
        "outputId": "05ad92ee-e609-4513-941a-3bd8c63b2fef"
      },
      "execution_count": null,
      "outputs": [
        {
          "output_type": "stream",
          "name": "stdout",
          "text": [
            "인덱스 1의 항목 : 10\n"
          ]
        }
      ]
    },
    {
      "cell_type": "code",
      "source": [
        "my_list.delete(1)\n",
        "print(my_list)"
      ],
      "metadata": {
        "colab": {
          "base_uri": "https://localhost:8080/"
        },
        "id": "LtVqnB9fQ4il",
        "outputId": "4a751965-d9ec-485a-bdb7-366e57de2d54"
      },
      "execution_count": null,
      "outputs": [
        {
          "output_type": "stream",
          "name": "stdout",
          "text": [
            "[5, 15, 20]\n"
          ]
        }
      ]
    },
    {
      "cell_type": "markdown",
      "source": [
        "## 클래스"
      ],
      "metadata": {
        "id": "nUX-KHcpXz10"
      }
    },
    {
      "cell_type": "code",
      "source": [
        "class Car:        # 클래스 정의\n",
        "  def __init__(self, color, speed=0):\n",
        "    self.color = color\n",
        "    self.speed = speed\n",
        "\n",
        "  def speedUp(self):\n",
        "    self.speed += 10\n",
        "\n",
        "  def speedDown(self):\n",
        "    self.speed -= 10"
      ],
      "metadata": {
        "id": "uzwcXumdRnld"
      },
      "execution_count": null,
      "outputs": []
    },
    {
      "cell_type": "code",
      "source": [
        "my_car = Car(\"black\", 0)  # 객체\n",
        "mika_car = Car(\"red\", 120)\n",
        "hina_car = Car(\"yellow\")"
      ],
      "metadata": {
        "id": "XmXA53mxYnlm"
      },
      "execution_count": null,
      "outputs": []
    },
    {
      "cell_type": "code",
      "source": [
        "print(my_car.color)\n",
        "print(my_car.speed)"
      ],
      "metadata": {
        "colab": {
          "base_uri": "https://localhost:8080/"
        },
        "id": "tG-E4CRFZECO",
        "outputId": "124afbbc-348f-44f2-c669-06db01928e0a"
      },
      "execution_count": null,
      "outputs": [
        {
          "output_type": "stream",
          "name": "stdout",
          "text": [
            "black\n",
            "0\n"
          ]
        }
      ]
    },
    {
      "cell_type": "code",
      "source": [
        "my_car.speedUp()\n",
        "my_car.speedUp()\n",
        "print(my_car.speed)"
      ],
      "metadata": {
        "colab": {
          "base_uri": "https://localhost:8080/"
        },
        "id": "0ybXKcf0ZLBO",
        "outputId": "93bfa3e3-c89d-4163-97cd-c4067fdc8e57"
      },
      "execution_count": null,
      "outputs": [
        {
          "output_type": "stream",
          "name": "stdout",
          "text": [
            "20\n"
          ]
        }
      ]
    },
    {
      "cell_type": "code",
      "source": [
        "mika_car.speedDown()\n",
        "mika_car.speedDown()\n",
        "mika_car.speedDown()\n",
        "mika_car.speedDown()\n",
        "print(mika_car.speed)"
      ],
      "metadata": {
        "colab": {
          "base_uri": "https://localhost:8080/"
        },
        "id": "QZ5IQ4cCZiL3",
        "outputId": "8a6f8cda-9863-487d-8b84-067be2665c1c"
      },
      "execution_count": null,
      "outputs": [
        {
          "output_type": "stream",
          "name": "stdout",
          "text": [
            "80\n"
          ]
        }
      ]
    },
    {
      "cell_type": "markdown",
      "source": [
        "## 스택"
      ],
      "metadata": {
        "id": "5bRvSg21bNIF"
      }
    },
    {
      "cell_type": "code",
      "source": [
        "class ArrayStack :\n",
        "    def __init__(self, capacity):           # 생성자 정의\n",
        "        self.capacity = capacity            # 용량(고정)\n",
        "        self.array = [None]*self.capacity   # 요소들을 저장할 배열\n",
        "        self.top = -1                       # 스택 상단의 인덱스\n",
        "\n",
        "    # 코드 1.2b: 스택 클래스의 연산들\n",
        "    def isEmpty(self) :\n",
        "       return self.top == -1\n",
        "\n",
        "    def isFull(self) :\n",
        "       return self.top == self.capacity-1\n",
        "\n",
        "    def push(self, item):\n",
        "        if not self.isFull() :\n",
        "            self.top += 1\n",
        "            self.array[self.top] = item\n",
        "        else: pass                    # overflow 예외는 처리하지 않았음\n",
        "\n",
        "    def pop(self):\n",
        "        if not self.isEmpty():\n",
        "            self.top -= 1\n",
        "            return self.array[self.top+1]\n",
        "        else: pass                    # underflow 예외는 처리하지 않았음\n",
        "\n",
        "    def peek(self):\n",
        "        if not self.isEmpty():\n",
        "            return self.array[self.top]\n",
        "        else: pass                    # underflow 예외는 처리하지 않았음\n",
        "\n",
        "    def __str__(self) :\n",
        "        return str(self.array[0:self.top+1][::-1])\n",
        "\n",
        "    def size(self) : return self.top+1"
      ],
      "metadata": {
        "id": "FZ3DUYLQcuht"
      },
      "execution_count": null,
      "outputs": []
    },
    {
      "cell_type": "code",
      "source": [
        "s = ArrayStack(5)\n",
        "print(s)"
      ],
      "metadata": {
        "colab": {
          "base_uri": "https://localhost:8080/"
        },
        "id": "tW6hrg6nidj_",
        "outputId": "ebbb1e7a-b1d6-49a0-9397-5302ce30a21b"
      },
      "execution_count": null,
      "outputs": [
        {
          "output_type": "stream",
          "name": "stdout",
          "text": [
            "[]\n"
          ]
        }
      ]
    },
    {
      "cell_type": "code",
      "source": [
        "# 1. 데이터 삽입(a, b, c)\n",
        "# 2. 최상단 항목 확인-peek\n",
        "# 3. 데이터 추출(pop)\n",
        "# 4. 스택이 가득 찼는 지 확인"
      ],
      "metadata": {
        "id": "Z2GRlMm4myg3"
      },
      "execution_count": null,
      "outputs": []
    },
    {
      "cell_type": "code",
      "source": [
        "# 1.\n",
        "s.push('a')\n",
        "s.push('b')\n",
        "s.push('c')\n",
        "print(s)"
      ],
      "metadata": {
        "colab": {
          "base_uri": "https://localhost:8080/"
        },
        "id": "zNiobBCjn9tn",
        "outputId": "9f21e70b-fb2c-46ea-f84b-019b19255f57"
      },
      "execution_count": null,
      "outputs": [
        {
          "output_type": "stream",
          "name": "stdout",
          "text": [
            "['c', 'b', 'a']\n"
          ]
        }
      ]
    },
    {
      "cell_type": "code",
      "source": [
        "# 2.\n",
        "s.peek()"
      ],
      "metadata": {
        "colab": {
          "base_uri": "https://localhost:8080/",
          "height": 35
        },
        "id": "CIg-tXDUnP-o",
        "outputId": "dd2889c1-8a82-45f9-92c2-1ec6f1f29e3c"
      },
      "execution_count": null,
      "outputs": [
        {
          "output_type": "execute_result",
          "data": {
            "text/plain": [
              "'c'"
            ],
            "application/vnd.google.colaboratory.intrinsic+json": {
              "type": "string"
            }
          },
          "metadata": {},
          "execution_count": 73
        }
      ]
    },
    {
      "cell_type": "code",
      "source": [
        "# 3.\n",
        "s.pop()\n",
        "print(s)"
      ],
      "metadata": {
        "colab": {
          "base_uri": "https://localhost:8080/"
        },
        "id": "NOeDvUhunsKv",
        "outputId": "ff7cab5c-1237-476d-9b2a-d47bb9f357d0"
      },
      "execution_count": null,
      "outputs": [
        {
          "output_type": "stream",
          "name": "stdout",
          "text": [
            "['b', 'a']\n"
          ]
        }
      ]
    },
    {
      "cell_type": "code",
      "source": [
        "# 4.\n",
        "s.isFull()"
      ],
      "metadata": {
        "colab": {
          "base_uri": "https://localhost:8080/"
        },
        "id": "NS2lzkilnsU4",
        "outputId": "3869a560-afb2-4a7b-dd96-5bdf5a5ded69"
      },
      "execution_count": null,
      "outputs": [
        {
          "output_type": "execute_result",
          "data": {
            "text/plain": [
              "False"
            ]
          },
          "metadata": {},
          "execution_count": 75
        }
      ]
    },
    {
      "cell_type": "markdown",
      "source": [
        "## 문자열 역순 출력 프로그램"
      ],
      "metadata": {
        "id": "Q_If2AVWqXzv"
      }
    },
    {
      "cell_type": "code",
      "source": [
        "s = ArrayStack(100)\n",
        "msg = input(\"문자열 입력 : \")\n",
        "\n",
        "for c in msg:\n",
        "  s.push(c)\n",
        "print(\"문자열 출력 : \", end='')\n",
        "\n",
        "while not s.isEmpty():\n",
        "  print(s.pop(), end='')"
      ],
      "metadata": {
        "colab": {
          "base_uri": "https://localhost:8080/"
        },
        "id": "UnVSFwMsnwMq",
        "outputId": "0f431788-7a1b-4305-f549-ab16df0207ca"
      },
      "execution_count": null,
      "outputs": [
        {
          "output_type": "stream",
          "name": "stdout",
          "text": [
            "문자열 입력 : 가나다라마바사아자차카타파하\n",
            "문자열 출력 : 하파타카차자아사바마라다나가"
          ]
        }
      ]
    }
  ]
}