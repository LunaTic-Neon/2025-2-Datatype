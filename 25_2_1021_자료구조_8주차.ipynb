{
  "nbformat": 4,
  "nbformat_minor": 0,
  "metadata": {
    "colab": {
      "provenance": [],
      "collapsed_sections": [
        "y5wkzdr1XPrB"
      ],
      "authorship_tag": "ABX9TyPEtPm7xfS2I4yS6odojKBY",
      "include_colab_link": true
    },
    "kernelspec": {
      "name": "python3",
      "display_name": "Python 3"
    },
    "language_info": {
      "name": "python"
    }
  },
  "cells": [
    {
      "cell_type": "markdown",
      "metadata": {
        "id": "view-in-github",
        "colab_type": "text"
      },
      "source": [
        "<a href=\"https://colab.research.google.com/github/LunaTic-Neon/2025-2-Datatype/blob/main/25_2_1021_%EC%9E%90%EB%A3%8C%EA%B5%AC%EC%A1%B0_8%EC%A3%BC%EC%B0%A8.ipynb\" target=\"_parent\"><img src=\"https://colab.research.google.com/assets/colab-badge.svg\" alt=\"Open In Colab\"/></a>"
      ]
    },
    {
      "cell_type": "markdown",
      "source": [
        "## 큐"
      ],
      "metadata": {
        "id": "y5wkzdr1XPrB"
      }
    },
    {
      "cell_type": "code",
      "execution_count": 30,
      "metadata": {
        "id": "QwNYkgGoXO7O"
      },
      "outputs": [],
      "source": [
        "class CircularQueue:\n",
        "  def __init__(self, capacity=8):\n",
        "    self.capacity = capacity\n",
        "    self.array = [None] * capacity\n",
        "    self.front = 0\n",
        "    self.rear = 0\n",
        "\n",
        "  def isEmpty(self):\n",
        "    return self.front == self.rear\n",
        "\n",
        "  def isFull(self):\n",
        "    return self.front == (self.rear + 1) % self.capacity\n",
        "\n",
        "  def enqueue(self, item):\n",
        "    # if 포화\n",
        "    if self.isFull():\n",
        "      raise Exception(\"Queue is full\")\n",
        "    self.rear = (self.rear + 1) % self.capacity\n",
        "    self.array[self.rear] = item\n",
        "\n",
        "  def dequeue(self):\n",
        "    # if 공백\n",
        "    if self.isEmpty():\n",
        "      raise Exception(\"Queue is empty\")\n",
        "    self.front = (self.front + 1) % self.capacity\n",
        "    return self.array[self.front]\n",
        "\n",
        "  def peek(self):\n",
        "    # if 공백\n",
        "    if self.isEmpty():\n",
        "      raise Exception(\"Queue is empty\")\n",
        "    return self.array[(self.front + 1) % self.capacity]\n",
        "\n",
        "  def __str__(self):\n",
        "    if self.front < self.rear:\n",
        "      return str(self.array[self.front + 1: self.rear + 1])\n",
        "    else:\n",
        "      return str(self.array[self.front + 1:] + self.array[:self.rear + 1])"
      ]
    },
    {
      "cell_type": "code",
      "source": [
        "q = CircularQueue(8)\n",
        "\n",
        "# a, b, c, d 삽입\n",
        "q.enqueue('a')\n",
        "q.enqueue('b')\n",
        "q.enqueue('c')\n",
        "q.enqueue('d')\n",
        "\n",
        "# front 확인\n",
        "q.peek()"
      ],
      "metadata": {
        "colab": {
          "base_uri": "https://localhost:8080/",
          "height": 35
        },
        "id": "nQaD7NwWYhYi",
        "outputId": "c9651196-cbc7-47d7-8142-660836ba86b4"
      },
      "execution_count": 31,
      "outputs": [
        {
          "output_type": "execute_result",
          "data": {
            "text/plain": [
              "'a'"
            ],
            "application/vnd.google.colaboratory.intrinsic+json": {
              "type": "string"
            }
          },
          "metadata": {},
          "execution_count": 31
        }
      ]
    },
    {
      "cell_type": "code",
      "source": [
        "print(q)"
      ],
      "metadata": {
        "colab": {
          "base_uri": "https://localhost:8080/"
        },
        "id": "p56N4YEjYhcZ",
        "outputId": "3552085c-64e1-4cf5-8978-19f7e3bbbbc5"
      },
      "execution_count": 32,
      "outputs": [
        {
          "output_type": "stream",
          "name": "stdout",
          "text": [
            "['a', 'b', 'c', 'd']\n"
          ]
        }
      ]
    },
    {
      "cell_type": "markdown",
      "source": [
        "## 덱"
      ],
      "metadata": {
        "id": "p0wh3S3skdl0"
      }
    },
    {
      "cell_type": "code",
      "source": [
        "class CircularDeque(CircularQueue):\n",
        "  def __init__(self, capacity=10):\n",
        "    super().__init__(capacity)      # 부모 클래스 호출\n",
        "\n",
        "  def addRear(self, item):\n",
        "    self.enqueue(item)\n",
        "\n",
        "  def deleteFront(self):\n",
        "    return self.dequeue()\n",
        "\n",
        "  def getFront(self):\n",
        "    return self.peek()\n",
        "\n",
        "  # 앞단 삽입\n",
        "  def addFront(self, item):\n",
        "    if self.isFull():\n",
        "      raise Exception(\"Queue is full\")\n",
        "    self.array[self.front] = item\n",
        "    self.front = (self.front - 1 + self.capacity) % self.capacity\n",
        "\n",
        "  # 후단 삭제\n",
        "  def deleteRear(self):\n",
        "    if self.isEmpty():\n",
        "      raise Exception(\"Queue is empty\")\n",
        "    item = self.array[self.rear]\n",
        "    self.rear = (self.rear - 1 + self.capacity) % self.capacity\n",
        "    self.array[self.rear] = None\n",
        "\n",
        "  # 후단 조회\n",
        "  def getRear(self):\n",
        "    if self.isEmpty():\n",
        "      raise Exception(\"Queue is empty\")\n",
        "    return self.array[self.rear]"
      ],
      "metadata": {
        "id": "IrkDvpf2Yhoy"
      },
      "execution_count": 34,
      "outputs": []
    },
    {
      "cell_type": "code",
      "source": [
        "dq = CircularDeque(10)\n",
        "\n",
        "# a, b, c, d 삽입\n",
        "dq.addFront('a')\n",
        "dq.addFront('b')\n",
        "dq.addRear('c')\n",
        "dq.addRear('d')\n",
        "dq.addFront('e')\n",
        "dq.addRear('f')\n",
        "\n",
        "print(dq)"
      ],
      "metadata": {
        "colab": {
          "base_uri": "https://localhost:8080/"
        },
        "id": "FhVlVJ1rkhsE",
        "outputId": "ff84ae3e-fc76-4f25-9151-c7b5d3d23cac"
      },
      "execution_count": 37,
      "outputs": [
        {
          "output_type": "stream",
          "name": "stdout",
          "text": [
            "['e', 'b', 'a', 'c', 'd', 'f']\n"
          ]
        }
      ]
    }
  ]
}