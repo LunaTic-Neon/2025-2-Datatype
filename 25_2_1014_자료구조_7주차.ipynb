{
  "nbformat": 4,
  "nbformat_minor": 0,
  "metadata": {
    "colab": {
      "provenance": [],
      "collapsed_sections": [
        "2fuMzAE0ebMw"
      ],
      "authorship_tag": "ABX9TyNdBIRfY+ksrK39+U76um7x",
      "include_colab_link": true
    },
    "kernelspec": {
      "name": "python3",
      "display_name": "Python 3"
    },
    "language_info": {
      "name": "python"
    }
  },
  "cells": [
    {
      "cell_type": "markdown",
      "metadata": {
        "id": "view-in-github",
        "colab_type": "text"
      },
      "source": [
        "<a href=\"https://colab.research.google.com/github/LunaTic-Neon/2025-2-Datatype/blob/main/25_2_1014_%EC%9E%90%EB%A3%8C%EA%B5%AC%EC%A1%B0_7%EC%A3%BC%EC%B0%A8.ipynb\" target=\"_parent\"><img src=\"https://colab.research.google.com/assets/colab-badge.svg\" alt=\"Open In Colab\"/></a>"
      ]
    },
    {
      "cell_type": "markdown",
      "source": [
        "## 괄호검사"
      ],
      "metadata": {
        "id": "2fuMzAE0ebMw"
      }
    },
    {
      "cell_type": "code",
      "execution_count": null,
      "metadata": {
        "id": "TWmBzAqGOU7Y"
      },
      "outputs": [],
      "source": [
        "class ArrayStack :\n",
        "    def __init__(self, capacity):           # 생성자 정의\n",
        "        self.capacity = capacity            # 용량(고정)\n",
        "        self.array = [None]*self.capacity   # 요소들을 저장할 배열\n",
        "        self.top = -1                       # 스택 상단의 인덱스\n",
        "\n",
        "    # 코드 1.2b: 스택 클래스의 연산들\n",
        "    def isEmpty(self) :\n",
        "       return self.top == -1\n",
        "\n",
        "    def isFull(self) :\n",
        "       return self.top == self.capacity-1\n",
        "\n",
        "    def push(self, item):\n",
        "        if not self.isFull() :\n",
        "            self.top += 1\n",
        "            self.array[self.top] = item\n",
        "        else: pass                    # overflow 예외는 처리하지 않았음\n",
        "\n",
        "    def pop(self):\n",
        "        if not self.isEmpty():\n",
        "            self.top -= 1\n",
        "            return self.array[self.top+1]\n",
        "        else: pass                    # underflow 예외는 처리하지 않았음\n",
        "\n",
        "    def peek(self):\n",
        "        if not self.isEmpty():\n",
        "            return self.array[self.top]\n",
        "        else: pass                    # underflow 예외는 처리하지 않았음\n",
        "\n",
        "    def __str__(self) :\n",
        "        return str(self.array[0:self.top+1][::-1])\n",
        "\n",
        "    def size(self) : return self.top+1"
      ]
    },
    {
      "cell_type": "code",
      "source": [
        "def checkBrackets(statement):\n",
        "  stack = ArrayStack(100)\n",
        "  for ch in statement:\n",
        "    if ch == '{'or ch ==\"[\" or ch == '(':\n",
        "      stack.push(ch)\n",
        "    elif ch == '}' or ch == ']' or ch == ')':\n",
        "      if stack.isEmpty():\n",
        "        return False\n",
        "      else:\n",
        "        left = stack.pop()\n",
        "        if (ch == '}' and left != \"{\") or \\\n",
        "           (ch == ']' and left != \"[\") or \\\n",
        "           (ch == ')' and left != \"(\"):\n",
        "          return False"
      ],
      "metadata": {
        "id": "a5-ddHkmQTxf"
      },
      "execution_count": null,
      "outputs": []
    },
    {
      "cell_type": "code",
      "source": [
        "s1 = \"{A[ (i+1) ] = 0: } {())()}{}}{[[]}{}()()]}\"\n",
        "checkBrackets(s1)"
      ],
      "metadata": {
        "colab": {
          "base_uri": "https://localhost:8080/"
        },
        "id": "x-2-qiezQT1f",
        "outputId": "ee7fd440-1a3a-4f2d-d755-b07325f6b591"
      },
      "execution_count": null,
      "outputs": [
        {
          "output_type": "execute_result",
          "data": {
            "text/plain": [
              "False"
            ]
          },
          "metadata": {},
          "execution_count": 21
        }
      ]
    },
    {
      "cell_type": "markdown",
      "source": [
        "## 계산기"
      ],
      "metadata": {
        "id": "OuiaxU76eeyh"
      }
    },
    {
      "cell_type": "code",
      "source": [
        "class ArrayStack :\n",
        "    def __init__(self, capacity):           # 생성자 정의\n",
        "        self.capacity = capacity            # 용량(고정)\n",
        "        self.array = [None]*self.capacity   # 요소들을 저장할 배열\n",
        "        self.top = -1                       # 스택 상단의 인덱스\n",
        "\n",
        "    # 코드 1.2b: 스택 클래스의 연산들\n",
        "    def isEmpty(self) :\n",
        "       return self.top == -1\n",
        "\n",
        "    def isFull(self) :\n",
        "       return self.top == self.capacity-1\n",
        "\n",
        "    def push(self, item):\n",
        "        if not self.isFull() :\n",
        "            self.top += 1\n",
        "            self.array[self.top] = item\n",
        "        else: pass                    # overflow 예외는 처리하지 않았음\n",
        "\n",
        "    def pop(self):\n",
        "        if not self.isEmpty():\n",
        "            self.top -= 1\n",
        "            return self.array[self.top+1]\n",
        "        else: pass                    # underflow 예외는 처리하지 않았음\n",
        "\n",
        "    def peek(self):\n",
        "        if not self.isEmpty():\n",
        "            return self.array[self.top]\n",
        "        else: pass                    # underflow 예외는 처리하지 않았음\n",
        "\n",
        "    def __str__(self) :\n",
        "        return str(self.array[0:self.top+1][::-1])\n",
        "\n",
        "    def size(self) : return self.top+1"
      ],
      "metadata": {
        "id": "I7tPeZvjQT6G"
      },
      "execution_count": null,
      "outputs": []
    },
    {
      "cell_type": "code",
      "source": [
        "def evalPostfix(expr):\n",
        "  s = ArrayStack(100)\n",
        "\n",
        "  for token in expr:\n",
        "    if token in \"+-*/\":\n",
        "      val2 = s.pop()\n",
        "      val1 = s.pop()\n",
        "\n",
        "      if token == \"+\":s.push(val1+val2)\n",
        "      elif token == \"-\":s.push(val1-val2)\n",
        "      elif token == \"*\":s.push(val1*val2)\n",
        "      elif token == \"/\":s.push(val1/val2)\n",
        "\n",
        "    else:\n",
        "      s.push(float(token))\n",
        "  return s.pop()"
      ],
      "metadata": {
        "id": "-OUtobSwQUIo"
      },
      "execution_count": null,
      "outputs": []
    },
    {
      "cell_type": "code",
      "source": [
        "expr1 = ['8', '3', '+', '7', '*', '3', '-', '2', '/']\n",
        "evalPostfix(expr1)"
      ],
      "metadata": {
        "colab": {
          "base_uri": "https://localhost:8080/"
        },
        "id": "u7YFWzM6a6hY",
        "outputId": "9485d6f9-d0c5-4651-c698-1902a0f13e18"
      },
      "execution_count": null,
      "outputs": [
        {
          "output_type": "execute_result",
          "data": {
            "text/plain": [
              "37.0"
            ]
          },
          "metadata": {},
          "execution_count": 27
        }
      ]
    }
  ]
}